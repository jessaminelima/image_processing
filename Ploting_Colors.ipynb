{
 "cells": [
  {
   "cell_type": "code",
   "execution_count": 46,
   "id": "665523b1",
   "metadata": {},
   "outputs": [],
   "source": [
    "import numpy as np\n",
    "import matplotlib.pyplot as plt\n"
   ]
  },
  {
   "cell_type": "code",
   "execution_count": 47,
   "id": "bf3b33c1",
   "metadata": {},
   "outputs": [],
   "source": [
    "def plot_figure(images_colors, colors_name, col, lin):\n",
    "    \n",
    "    fig = plt.figure(figsize = (15,10))\n",
    "    ax = [] # vetor que auxilia na manipulação dos subplots\n",
    "    for i in range(col * lin):\n",
    "        ax.append(fig.add_subplot(lin, col, i+1))\n",
    "        ax[-1].set_title((colors_name[i]))\n",
    "        plt.imshow(images_colors[i])\n",
    "\n",
    "    plt.show()\n"
   ]
  },
  {
   "cell_type": "code",
   "execution_count": 48,
   "id": "a99bac6f",
   "metadata": {},
   "outputs": [],
   "source": [
    "# --- Geração da imagem em 3 canais (RGB) --- #\n",
    "\n",
    "imagem = np.zeros((100, 100, 3)).astype('uint8')\n",
    "\n",
    "\n",
    "# --- Gerando componentes RGB --- #\n",
    "\n",
    "COLOR_R = np.array(imagem) # Criação de cópia para a cor VERMELHO\n",
    "COLOR_G = np.array(imagem) # Criação de cópia para a cor VERDE\n",
    "COLOR_B = np.array(imagem) # Criação de cópia para a cor AZUL\n",
    "COLOR_Y = np.array(imagem) # Criação de cópia para a cor AMARELHO\n",
    "COLOR_M = np.array(imagem) # Criação de cópia para a cor MAGENTA\n",
    "COLOR_C = np.array(imagem) # Criação de cópia para a cor CIANO\n",
    "COLOR_BLACK = np.array(imagem) # Criação de cópia para a cor PRETO\n",
    "COLOR_BLANK = np.array(imagem) # Criação de cópia para a cor BRANCO\n",
    " \n",
    "COLOR_R[:, :, 0]     = 255               # Vermelho\n",
    "COLOR_G[:, :, 1]     = 255               # Verde\n",
    "COLOR_B[:, :, 2]     = 255               # Azul\n",
    "COLOR_Y[:, :, :]     = 255,255,0         # Amarelo \n",
    "COLOR_M[:, :, :]     = 139,0,139         # Magenta\n",
    "COLOR_C[:, :, :]     = 0,255,255         # Ciano\n",
    "COLOR_BLACK[:, :, :] = 0,0,0             # Preto\n",
    "COLOR_BLANK[:, :, :] = 255, 255,255      # Branco\n",
    "\n",
    "\n",
    "colors_list = [COLOR_R, COLOR_G, COLOR_B, COLOR_Y, COLOR_M, COLOR_C, COLOR_BLACK, COLOR_BLANK]\n",
    "colors_name = \"VERMELHO VERDE AZUL AMARELO MAGENTA CIANO PRETO BRANCO\".split()\n"
   ]
  },
  {
   "cell_type": "code",
   "execution_count": 49,
   "id": "a8c301d5",
   "metadata": {},
   "outputs": [
    {
     "data": {
      "image/png": "[encoded data removed]",
      "text/plain": [
       "<Figure size 1080x720 with 8 Axes>"
      ]
     },
     "metadata": {
      "needs_background": "light"
     },
     "output_type": "display_data"
    }
   ],
   "source": [
    "# --- Exibindo imagens nas componentes R, G e B --- #\n",
    "plot_figure(colors_list, colors_name, 4, 2)\n"
   ]
  },
  {
   "cell_type": "code",
   "execution_count": null,
   "id": "1f19e804",
   "metadata": {},
   "outputs": [],
   "source": []
  }
 ],
 "metadata": {
  "kernelspec": {
   "display_name": "Python 3 (ipykernel)",
   "language": "python",
   "name": "python3"
  },
  "language_info": {
   "codemirror_mode": {
    "name": "ipython",
    "version": 3
   },
   "file_extension": ".py",
   "mimetype": "text/x-python",
   "name": "python",
   "nbconvert_exporter": "python",
   "pygments_lexer": "ipython3",
   "version": "3.7.0"
  }
 },
 "nbformat": 4,
 "nbformat_minor": 5
}
